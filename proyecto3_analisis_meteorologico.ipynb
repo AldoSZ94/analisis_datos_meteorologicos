{
 "cells": [
  {
   "cell_type": "markdown",
   "id": "06665923",
   "metadata": {},
   "source": [
    "### **Análisis de Datos Meteorológicos**\n",
    "\n",
    "Este proyecto consiste en realizar un conjunto de datos meteorológicos utilizando **Python** y **NumPy**, con el objetivo de aplicar técnicas de manipulación de arrays, tratamiento de datos faltantes y análisis estadísticos basados en un conjunto de datos del mundo real.\n",
    "\n",
    "#### **Tareas a realizar:**\n",
    "\n",
    "1. Crear un DataFrame a partir de los datos del archivo _datos_meteorologicos.csv_.\n",
    "2. Realizar observaciones iniciales de los datos con Pandas.\n",
    "3. Convertir las columnas del DataFrame en arrays de NumPy.\n",
    "4. Identificar los datos faltantes en los arrays y reemplazarlos por el promedio de los valores del respectivo array.\n",
    "5. Realizar los siguientes análisis:\n",
    "\n",
    "   - La temperatura promedio\n",
    "   - El total de precipitaciones\n",
    "   - La máxima humedad registrada\n",
    "   - La fecha más calurosa\n",
    "   - La fecha más fría\n",
    "\n",
    "6. Exportar los resultados a un nuevo archivo CSV.\n"
   ]
  },
  {
   "cell_type": "markdown",
   "id": "b31a9725",
   "metadata": {},
   "source": [
    "**Importación de librerías**\n"
   ]
  },
  {
   "cell_type": "code",
   "execution_count": null,
   "id": "b7d00e21",
   "metadata": {},
   "outputs": [],
   "source": [
    "import pandas as pd\n",
    "import numpy as np"
   ]
  },
  {
   "cell_type": "markdown",
   "id": "d3422ac5",
   "metadata": {},
   "source": [
    "**Lectura de archivo**\n"
   ]
  },
  {
   "cell_type": "code",
   "execution_count": null,
   "id": "901ca19f",
   "metadata": {},
   "outputs": [],
   "source": [
    "df = pd.read_csv(\"datos_meteorologicos.csv\")"
   ]
  },
  {
   "cell_type": "markdown",
   "id": "eb8efdf7",
   "metadata": {},
   "source": [
    "**Análisis explorativo**\n"
   ]
  },
  {
   "cell_type": "code",
   "execution_count": null,
   "id": "324743da",
   "metadata": {},
   "outputs": [],
   "source": [
    "df.info()\n",
    "print(df.head())\n",
    "print(df.describe())"
   ]
  },
  {
   "cell_type": "markdown",
   "id": "666831f7",
   "metadata": {},
   "source": [
    "**Limpieza y formateo**\n"
   ]
  },
  {
   "cell_type": "code",
   "execution_count": null,
   "id": "35f41e0b",
   "metadata": {},
   "outputs": [],
   "source": [
    "df.columns = df.columns.str.lower()\n",
    "df.rename(columns={\"precipitación\": \"precipitacion\"}, inplace=True)\n",
    "df[\"fecha\"] = pd.to_datetime(df[\"fecha\"], format=\"%d/%m/%Y\")"
   ]
  },
  {
   "cell_type": "markdown",
   "id": "9ab2a374",
   "metadata": {},
   "source": [
    "**Conversión de columnas a arrays de NumPy**\n"
   ]
  },
  {
   "cell_type": "code",
   "execution_count": null,
   "id": "1fe61ff1",
   "metadata": {},
   "outputs": [],
   "source": [
    "temperatura = df[\"temperatura\"].to_numpy()\n",
    "precipitacion = df[\"precipitacion\"].to_numpy()\n",
    "humedad = df[\"humedad\"].to_numpy()"
   ]
  },
  {
   "cell_type": "markdown",
   "id": "7f1350df",
   "metadata": {},
   "source": [
    "**Sustitución de valores nulos**\n"
   ]
  },
  {
   "cell_type": "code",
   "execution_count": null,
   "id": "70754c2a",
   "metadata": {},
   "outputs": [],
   "source": [
    "temperatura = np.where(np.isnan(temperatura), np.nanmean(temperatura), temperatura)\n",
    "precipitacion = np.where(np.isnan(precipitacion), np.nanmean(precipitacion), precipitacion)\n",
    "humedad = np.where(np.isnan(humedad), np.nanmean(humedad), humedad)"
   ]
  },
  {
   "cell_type": "markdown",
   "id": "f8195384",
   "metadata": {},
   "source": [
    "**Cálculo de estadísticas descriptivas**\n"
   ]
  },
  {
   "cell_type": "code",
   "execution_count": null,
   "id": "1715d739",
   "metadata": {},
   "outputs": [],
   "source": [
    "temperatura_media = np.mean(temperatura)\n",
    "total_precipitaciones = np.sum(precipitacion)\n",
    "humedad_maxima = np.max(humedad)\n",
    "menor_temperatura = np.min(temperatura)\n",
    "mayor_temperatura = np.max(temperatura)\n",
    "fecha_mayor_temperatura = df[\"fecha\"][df[\"temperatura\"] == mayor_temperatura].iloc[0].strftime(\"%Y-%m-%d\")\n",
    "fecha_menor_temperatura = df[\"fecha\"][df[\"temperatura\"] == menor_temperatura].iloc[0].strftime(\"%Y-%m-%d\")"
   ]
  },
  {
   "cell_type": "markdown",
   "id": "3a646fe0",
   "metadata": {},
   "source": [
    "**Imprime resultados**\n"
   ]
  },
  {
   "cell_type": "code",
   "execution_count": null,
   "id": "49752358",
   "metadata": {},
   "outputs": [],
   "source": [
    "print(f\"Temperatura promedio: {temperatura_media:.2f} °C\")\n",
    "print(f\"Total precipitaciones: {total_precipitaciones:.2f} mm\")\n",
    "print(f\"Humedad máxima registrada: {humedad_maxima:.2f} %\")\n",
    "print(f\"Fecha con mayor temperatura: {fecha_mayor_temperatura}; Temperatura: {mayor_temperatura:.2f} °C\")\n",
    "print(f\"Fecha con menor temperatura: {fecha_menor_temperatura}; Temperatura: {menor_temperatura:.2f} °C\")"
   ]
  },
  {
   "cell_type": "markdown",
   "id": "cb7b2599",
   "metadata": {},
   "source": [
    "**Exporta el archivo**\n"
   ]
  },
  {
   "cell_type": "code",
   "execution_count": null,
   "id": "0aa1b386",
   "metadata": {},
   "outputs": [],
   "source": [
    "resumen_meteorológico = pd.DataFrame(\n",
    "    {\n",
    "        \"Métrica\": [\n",
    "            \"Temperatura promedio\",\n",
    "            \"Precipitación total\",\n",
    "            \"Humedad máxima\",\n",
    "            \"Día con mayor temperatura\",\n",
    "            \"Día con menor temperatura\",\n",
    "        ],\n",
    "        \"Valor\": [\n",
    "            temperatura_media,\n",
    "            total_precipitaciones,\n",
    "            humedad_maxima,\n",
    "            fecha_mayor_temperatura,\n",
    "            fecha_menor_temperatura,\n",
    "        ],\n",
    "    }\n",
    ")\n",
    "resumen_meteorológico.to_csv(\"resultados_analisis_meteorologicos.csv\", index=False, encoding=\"utf-8-sig\")"
   ]
  }
 ],
 "metadata": {
  "kernelspec": {
   "display_name": "base",
   "language": "python",
   "name": "python3"
  },
  "language_info": {
   "codemirror_mode": {
    "name": "ipython",
    "version": 3
   },
   "file_extension": ".py",
   "mimetype": "text/x-python",
   "name": "python",
   "nbconvert_exporter": "python",
   "pygments_lexer": "ipython3",
   "version": "3.12.4"
  }
 },
 "nbformat": 4,
 "nbformat_minor": 5
}
